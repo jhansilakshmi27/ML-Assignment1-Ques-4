{
  "nbformat": 4,
  "nbformat_minor": 0,
  "metadata": {
    "colab": {
      "provenance": []
    },
    "kernelspec": {
      "name": "python3",
      "display_name": "Python 3"
    },
    "language_info": {
      "name": "python"
    }
  },
  "cells": [
    {
      "cell_type": "code",
      "execution_count": null,
      "metadata": {
        "id": "NX2JInpcADpW"
      },
      "outputs": [],
      "source": []
    },
    {
      "cell_type": "markdown",
      "source": [
        "Question-4"
      ],
      "metadata": {
        "id": "40ojjLqmAq5Q"
      }
    },
    {
      "cell_type": "code",
      "source": [
        "import pandas as pd\n",
        "\n",
        "# Replace 'winequality.csv' with the path to your downloaded file\n",
        "df = pd.read_csv('WineQT.csv')\n",
        "\n",
        "# Display the first few rows of the dataset\n",
        "print(df.head())\n"
      ],
      "metadata": {
        "colab": {
          "base_uri": "https://localhost:8080/"
        },
        "id": "BjdEXeljAs2v",
        "outputId": "ca1be4a4-0881-48e0-fb25-0bbb301631d7"
      },
      "execution_count": 1,
      "outputs": [
        {
          "output_type": "stream",
          "name": "stdout",
          "text": [
            "   fixed acidity  volatile acidity  citric acid  residual sugar  chlorides  \\\n",
            "0            7.4              0.70         0.00             1.9      0.076   \n",
            "1            7.8              0.88         0.00             2.6      0.098   \n",
            "2            7.8              0.76         0.04             2.3      0.092   \n",
            "3           11.2              0.28         0.56             1.9      0.075   \n",
            "4            7.4              0.70         0.00             1.9      0.076   \n",
            "\n",
            "   free sulfur dioxide  total sulfur dioxide  density    pH  sulphates  \\\n",
            "0                 11.0                  34.0   0.9978  3.51       0.56   \n",
            "1                 25.0                  67.0   0.9968  3.20       0.68   \n",
            "2                 15.0                  54.0   0.9970  3.26       0.65   \n",
            "3                 17.0                  60.0   0.9980  3.16       0.58   \n",
            "4                 11.0                  34.0   0.9978  3.51       0.56   \n",
            "\n",
            "   alcohol  quality  Id  \n",
            "0      9.4        5   0  \n",
            "1      9.8        5   1  \n",
            "2      9.8        5   2  \n",
            "3      9.8        6   3  \n",
            "4      9.4        5   4  \n"
          ]
        }
      ]
    },
    {
      "cell_type": "code",
      "source": [
        "import pandas as pd\n",
        "# Step 1: Converting 'quality' attribute to binary values\n",
        "df['quality'] = df['quality'].apply(lambda x: 0 if x <= 6 else 1)\n",
        "\n",
        "# Step 2: Min-Max Scaling for all features except 'quality' and 'Id'\n",
        "from sklearn.preprocessing import MinMaxScaler\n",
        "\n",
        "# Selecting columns to normalize (excluding 'quality' and 'Id')\n",
        "columns_to_normalize = df.columns.difference(['quality', 'Id'])\n",
        "\n",
        "# Initializing the MinMaxScaler\n",
        "scaler = MinMaxScaler()\n",
        "\n",
        "df[columns_to_normalize] = scaler.fit_transform(df[columns_to_normalize])\n",
        "\n",
        "# Display the first few rows of the modified dataset\n",
        "print(df.head())\n"
      ],
      "metadata": {
        "colab": {
          "base_uri": "https://localhost:8080/"
        },
        "id": "guplKoJ4Ayx2",
        "outputId": "f54c9959-1f1e-480b-b789-632d101ff868"
      },
      "execution_count": 3,
      "outputs": [
        {
          "output_type": "stream",
          "name": "stdout",
          "text": [
            "   fixed acidity  volatile acidity  citric acid  residual sugar  chlorides  \\\n",
            "0       0.247788          0.397260         0.00        0.068493   0.106845   \n",
            "1       0.283186          0.520548         0.00        0.116438   0.143573   \n",
            "2       0.283186          0.438356         0.04        0.095890   0.133556   \n",
            "3       0.584071          0.109589         0.56        0.068493   0.105175   \n",
            "4       0.247788          0.397260         0.00        0.068493   0.106845   \n",
            "\n",
            "   free sulfur dioxide  total sulfur dioxide   density        pH  sulphates  \\\n",
            "0             0.149254              0.098940  0.567548  0.606299   0.137725   \n",
            "1             0.358209              0.215548  0.494126  0.362205   0.209581   \n",
            "2             0.208955              0.169611  0.508811  0.409449   0.191617   \n",
            "3             0.238806              0.190813  0.582232  0.330709   0.149701   \n",
            "4             0.149254              0.098940  0.567548  0.606299   0.137725   \n",
            "\n",
            "    alcohol  quality  Id  \n",
            "0  0.153846        0   0  \n",
            "1  0.215385        0   1  \n",
            "2  0.215385        0   2  \n",
            "3  0.215385        0   3  \n",
            "4  0.153846        0   4  \n"
          ]
        }
      ]
    }
  ]
}